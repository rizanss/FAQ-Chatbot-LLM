{
  "nbformat": 4,
  "nbformat_minor": 0,
  "metadata": {
    "colab": {
      "provenance": [],
      "gpuType": "T4"
    },
    "kernelspec": {
      "name": "python3",
      "display_name": "Python 3"
    },
    "language_info": {
      "name": "python"
    },
    "accelerator": "GPU"
  },
  "cells": [
    {
      "cell_type": "code",
      "source": [
        "from google.colab import files\n",
        "\n",
        "# Upload file kaggle.json\n",
        "print(\"Silakan upload file 'kaggle.json' yang sudah Anda download.\")\n",
        "files.upload()"
      ],
      "metadata": {
        "colab": {
          "base_uri": "https://localhost:8080/",
          "height": 107
        },
        "id": "0VnuKqfNlTTd",
        "outputId": "87e50451-e4a0-4f88-c19f-748d9ba3c182"
      },
      "execution_count": 1,
      "outputs": [
        {
          "output_type": "stream",
          "name": "stdout",
          "text": [
            "Silakan upload file 'kaggle.json' yang sudah Anda download.\n"
          ]
        },
        {
          "output_type": "display_data",
          "data": {
            "text/plain": [
              "<IPython.core.display.HTML object>"
            ],
            "text/html": [
              "\n",
              "     <input type=\"file\" id=\"files-822bad22-65eb-45ce-b3cd-97c5f6bfc23b\" name=\"files[]\" multiple disabled\n",
              "        style=\"border:none\" />\n",
              "     <output id=\"result-822bad22-65eb-45ce-b3cd-97c5f6bfc23b\">\n",
              "      Upload widget is only available when the cell has been executed in the\n",
              "      current browser session. Please rerun this cell to enable.\n",
              "      </output>\n",
              "      <script>// Copyright 2017 Google LLC\n",
              "//\n",
              "// Licensed under the Apache License, Version 2.0 (the \"License\");\n",
              "// you may not use this file except in compliance with the License.\n",
              "// You may obtain a copy of the License at\n",
              "//\n",
              "//      http://www.apache.org/licenses/LICENSE-2.0\n",
              "//\n",
              "// Unless required by applicable law or agreed to in writing, software\n",
              "// distributed under the License is distributed on an \"AS IS\" BASIS,\n",
              "// WITHOUT WARRANTIES OR CONDITIONS OF ANY KIND, either express or implied.\n",
              "// See the License for the specific language governing permissions and\n",
              "// limitations under the License.\n",
              "\n",
              "/**\n",
              " * @fileoverview Helpers for google.colab Python module.\n",
              " */\n",
              "(function(scope) {\n",
              "function span(text, styleAttributes = {}) {\n",
              "  const element = document.createElement('span');\n",
              "  element.textContent = text;\n",
              "  for (const key of Object.keys(styleAttributes)) {\n",
              "    element.style[key] = styleAttributes[key];\n",
              "  }\n",
              "  return element;\n",
              "}\n",
              "\n",
              "// Max number of bytes which will be uploaded at a time.\n",
              "const MAX_PAYLOAD_SIZE = 100 * 1024;\n",
              "\n",
              "function _uploadFiles(inputId, outputId) {\n",
              "  const steps = uploadFilesStep(inputId, outputId);\n",
              "  const outputElement = document.getElementById(outputId);\n",
              "  // Cache steps on the outputElement to make it available for the next call\n",
              "  // to uploadFilesContinue from Python.\n",
              "  outputElement.steps = steps;\n",
              "\n",
              "  return _uploadFilesContinue(outputId);\n",
              "}\n",
              "\n",
              "// This is roughly an async generator (not supported in the browser yet),\n",
              "// where there are multiple asynchronous steps and the Python side is going\n",
              "// to poll for completion of each step.\n",
              "// This uses a Promise to block the python side on completion of each step,\n",
              "// then passes the result of the previous step as the input to the next step.\n",
              "function _uploadFilesContinue(outputId) {\n",
              "  const outputElement = document.getElementById(outputId);\n",
              "  const steps = outputElement.steps;\n",
              "\n",
              "  const next = steps.next(outputElement.lastPromiseValue);\n",
              "  return Promise.resolve(next.value.promise).then((value) => {\n",
              "    // Cache the last promise value to make it available to the next\n",
              "    // step of the generator.\n",
              "    outputElement.lastPromiseValue = value;\n",
              "    return next.value.response;\n",
              "  });\n",
              "}\n",
              "\n",
              "/**\n",
              " * Generator function which is called between each async step of the upload\n",
              " * process.\n",
              " * @param {string} inputId Element ID of the input file picker element.\n",
              " * @param {string} outputId Element ID of the output display.\n",
              " * @return {!Iterable<!Object>} Iterable of next steps.\n",
              " */\n",
              "function* uploadFilesStep(inputId, outputId) {\n",
              "  const inputElement = document.getElementById(inputId);\n",
              "  inputElement.disabled = false;\n",
              "\n",
              "  const outputElement = document.getElementById(outputId);\n",
              "  outputElement.innerHTML = '';\n",
              "\n",
              "  const pickedPromise = new Promise((resolve) => {\n",
              "    inputElement.addEventListener('change', (e) => {\n",
              "      resolve(e.target.files);\n",
              "    });\n",
              "  });\n",
              "\n",
              "  const cancel = document.createElement('button');\n",
              "  inputElement.parentElement.appendChild(cancel);\n",
              "  cancel.textContent = 'Cancel upload';\n",
              "  const cancelPromise = new Promise((resolve) => {\n",
              "    cancel.onclick = () => {\n",
              "      resolve(null);\n",
              "    };\n",
              "  });\n",
              "\n",
              "  // Wait for the user to pick the files.\n",
              "  const files = yield {\n",
              "    promise: Promise.race([pickedPromise, cancelPromise]),\n",
              "    response: {\n",
              "      action: 'starting',\n",
              "    }\n",
              "  };\n",
              "\n",
              "  cancel.remove();\n",
              "\n",
              "  // Disable the input element since further picks are not allowed.\n",
              "  inputElement.disabled = true;\n",
              "\n",
              "  if (!files) {\n",
              "    return {\n",
              "      response: {\n",
              "        action: 'complete',\n",
              "      }\n",
              "    };\n",
              "  }\n",
              "\n",
              "  for (const file of files) {\n",
              "    const li = document.createElement('li');\n",
              "    li.append(span(file.name, {fontWeight: 'bold'}));\n",
              "    li.append(span(\n",
              "        `(${file.type || 'n/a'}) - ${file.size} bytes, ` +\n",
              "        `last modified: ${\n",
              "            file.lastModifiedDate ? file.lastModifiedDate.toLocaleDateString() :\n",
              "                                    'n/a'} - `));\n",
              "    const percent = span('0% done');\n",
              "    li.appendChild(percent);\n",
              "\n",
              "    outputElement.appendChild(li);\n",
              "\n",
              "    const fileDataPromise = new Promise((resolve) => {\n",
              "      const reader = new FileReader();\n",
              "      reader.onload = (e) => {\n",
              "        resolve(e.target.result);\n",
              "      };\n",
              "      reader.readAsArrayBuffer(file);\n",
              "    });\n",
              "    // Wait for the data to be ready.\n",
              "    let fileData = yield {\n",
              "      promise: fileDataPromise,\n",
              "      response: {\n",
              "        action: 'continue',\n",
              "      }\n",
              "    };\n",
              "\n",
              "    // Use a chunked sending to avoid message size limits. See b/62115660.\n",
              "    let position = 0;\n",
              "    do {\n",
              "      const length = Math.min(fileData.byteLength - position, MAX_PAYLOAD_SIZE);\n",
              "      const chunk = new Uint8Array(fileData, position, length);\n",
              "      position += length;\n",
              "\n",
              "      const base64 = btoa(String.fromCharCode.apply(null, chunk));\n",
              "      yield {\n",
              "        response: {\n",
              "          action: 'append',\n",
              "          file: file.name,\n",
              "          data: base64,\n",
              "        },\n",
              "      };\n",
              "\n",
              "      let percentDone = fileData.byteLength === 0 ?\n",
              "          100 :\n",
              "          Math.round((position / fileData.byteLength) * 100);\n",
              "      percent.textContent = `${percentDone}% done`;\n",
              "\n",
              "    } while (position < fileData.byteLength);\n",
              "  }\n",
              "\n",
              "  // All done.\n",
              "  yield {\n",
              "    response: {\n",
              "      action: 'complete',\n",
              "    }\n",
              "  };\n",
              "}\n",
              "\n",
              "scope.google = scope.google || {};\n",
              "scope.google.colab = scope.google.colab || {};\n",
              "scope.google.colab._files = {\n",
              "  _uploadFiles,\n",
              "  _uploadFilesContinue,\n",
              "};\n",
              "})(self);\n",
              "</script> "
            ]
          },
          "metadata": {}
        },
        {
          "output_type": "stream",
          "name": "stdout",
          "text": [
            "Saving kaggle.json to kaggle.json\n"
          ]
        },
        {
          "output_type": "execute_result",
          "data": {
            "text/plain": [
              "{'kaggle.json': b'{\"username\":\"rizanursyah\",\"key\":\"8a8af6a9dc28cdebe0a0ff42d5244abf\"}'}"
            ]
          },
          "metadata": {},
          "execution_count": 1
        }
      ]
    },
    {
      "cell_type": "code",
      "source": [
        "# Buat direktori .kaggle dan siapkan API key\n",
        "!mkdir -p ~/.kaggle\n",
        "!cp kaggle.json ~/.kaggle/\n",
        "!chmod 600 ~/.kaggle/kaggle.json\n",
        "\n",
        "# Download dataset Mental Health FAQ dari Kaggle\n",
        "!kaggle datasets download -d narendrageek/mental-health-faq-for-chatbot\n",
        "\n",
        "# Unzip dataset yang baru di-download\n",
        "# Nama file zip-nya akan sesuai dengan nama dataset\n",
        "!unzip mental-health-faq-for-chatbot.zip"
      ],
      "metadata": {
        "colab": {
          "base_uri": "https://localhost:8080/"
        },
        "id": "jQjz4Re-lhMh",
        "outputId": "ae0dd774-4973-4b41-caeb-e0357dfd5648"
      },
      "execution_count": 2,
      "outputs": [
        {
          "output_type": "stream",
          "name": "stdout",
          "text": [
            "Dataset URL: https://www.kaggle.com/datasets/narendrageek/mental-health-faq-for-chatbot\n",
            "License(s): other\n",
            "Downloading mental-health-faq-for-chatbot.zip to /content\n",
            "  0% 0.00/50.1k [00:00<?, ?B/s]\n",
            "100% 50.1k/50.1k [00:00<00:00, 183MB/s]\n",
            "Archive:  mental-health-faq-for-chatbot.zip\n",
            "  inflating: Mental_Health_FAQ.csv   \n"
          ]
        }
      ]
    },
    {
      "cell_type": "code",
      "source": [
        "import pandas as pd\n",
        "\n",
        "# Path ke file CSV yang sudah di-unzip\n",
        "file_path = 'Mental_Health_FAQ.csv'\n",
        "\n",
        "# Load data menjadi DataFrame\n",
        "df = pd.read_csv(file_path)"
      ],
      "metadata": {
        "id": "JxYgdSeJrSDr"
      },
      "execution_count": 1,
      "outputs": []
    },
    {
      "cell_type": "code",
      "source": [
        "# Hapus kolom yang tidak kita perlukan\n",
        "df = df.drop('Question_ID', axis=1)"
      ],
      "metadata": {
        "id": "QHhQ145DrVgC"
      },
      "execution_count": 2,
      "outputs": []
    },
    {
      "cell_type": "code",
      "source": [
        "# Ganti nama kolom\n",
        "df.rename(columns={'Questions': 'pertanyaan', 'Answers': 'jawaban'}, inplace=True)\n",
        "\n",
        "# Tampilkan 5 baris pertama untuk verifikasi\n",
        "print(\"\\nDataset FAQ Kesehatan Mental berhasil di-load!\")\n",
        "df.head()"
      ],
      "metadata": {
        "colab": {
          "base_uri": "https://localhost:8080/",
          "height": 241
        },
        "id": "tHTAw0uzrXKp",
        "outputId": "db5d74e1-2e9d-4341-c350-77cc4d9d9b02"
      },
      "execution_count": 3,
      "outputs": [
        {
          "output_type": "stream",
          "name": "stdout",
          "text": [
            "\n",
            "Dataset FAQ Kesehatan Mental berhasil di-load!\n"
          ]
        },
        {
          "output_type": "execute_result",
          "data": {
            "text/plain": [
              "                                          pertanyaan  \\\n",
              "0        What does it mean to have a mental illness?   \n",
              "1                    Who does mental illness affect?   \n",
              "2                        What causes mental illness?   \n",
              "3  What are some of the warning signs of mental i...   \n",
              "4            Can people with mental illness recover?   \n",
              "\n",
              "                                             jawaban  \n",
              "0  Mental illnesses are health conditions that di...  \n",
              "1  It is estimated that mental illness affects 1 ...  \n",
              "2  It is estimated that mental illness affects 1 ...  \n",
              "3  Symptoms of mental health disorders vary depen...  \n",
              "4  When healing from mental illness, early identi...  "
            ],
            "text/html": [
              "\n",
              "  <div id=\"df-3daf75ae-a4d1-4281-9411-edd813771de4\" class=\"colab-df-container\">\n",
              "    <div>\n",
              "<style scoped>\n",
              "    .dataframe tbody tr th:only-of-type {\n",
              "        vertical-align: middle;\n",
              "    }\n",
              "\n",
              "    .dataframe tbody tr th {\n",
              "        vertical-align: top;\n",
              "    }\n",
              "\n",
              "    .dataframe thead th {\n",
              "        text-align: right;\n",
              "    }\n",
              "</style>\n",
              "<table border=\"1\" class=\"dataframe\">\n",
              "  <thead>\n",
              "    <tr style=\"text-align: right;\">\n",
              "      <th></th>\n",
              "      <th>pertanyaan</th>\n",
              "      <th>jawaban</th>\n",
              "    </tr>\n",
              "  </thead>\n",
              "  <tbody>\n",
              "    <tr>\n",
              "      <th>0</th>\n",
              "      <td>What does it mean to have a mental illness?</td>\n",
              "      <td>Mental illnesses are health conditions that di...</td>\n",
              "    </tr>\n",
              "    <tr>\n",
              "      <th>1</th>\n",
              "      <td>Who does mental illness affect?</td>\n",
              "      <td>It is estimated that mental illness affects 1 ...</td>\n",
              "    </tr>\n",
              "    <tr>\n",
              "      <th>2</th>\n",
              "      <td>What causes mental illness?</td>\n",
              "      <td>It is estimated that mental illness affects 1 ...</td>\n",
              "    </tr>\n",
              "    <tr>\n",
              "      <th>3</th>\n",
              "      <td>What are some of the warning signs of mental i...</td>\n",
              "      <td>Symptoms of mental health disorders vary depen...</td>\n",
              "    </tr>\n",
              "    <tr>\n",
              "      <th>4</th>\n",
              "      <td>Can people with mental illness recover?</td>\n",
              "      <td>When healing from mental illness, early identi...</td>\n",
              "    </tr>\n",
              "  </tbody>\n",
              "</table>\n",
              "</div>\n",
              "    <div class=\"colab-df-buttons\">\n",
              "\n",
              "  <div class=\"colab-df-container\">\n",
              "    <button class=\"colab-df-convert\" onclick=\"convertToInteractive('df-3daf75ae-a4d1-4281-9411-edd813771de4')\"\n",
              "            title=\"Convert this dataframe to an interactive table.\"\n",
              "            style=\"display:none;\">\n",
              "\n",
              "  <svg xmlns=\"http://www.w3.org/2000/svg\" height=\"24px\" viewBox=\"0 -960 960 960\">\n",
              "    <path d=\"M120-120v-720h720v720H120Zm60-500h600v-160H180v160Zm220 220h160v-160H400v160Zm0 220h160v-160H400v160ZM180-400h160v-160H180v160Zm440 0h160v-160H620v160ZM180-180h160v-160H180v160Zm440 0h160v-160H620v160Z\"/>\n",
              "  </svg>\n",
              "    </button>\n",
              "\n",
              "  <style>\n",
              "    .colab-df-container {\n",
              "      display:flex;\n",
              "      gap: 12px;\n",
              "    }\n",
              "\n",
              "    .colab-df-convert {\n",
              "      background-color: #E8F0FE;\n",
              "      border: none;\n",
              "      border-radius: 50%;\n",
              "      cursor: pointer;\n",
              "      display: none;\n",
              "      fill: #1967D2;\n",
              "      height: 32px;\n",
              "      padding: 0 0 0 0;\n",
              "      width: 32px;\n",
              "    }\n",
              "\n",
              "    .colab-df-convert:hover {\n",
              "      background-color: #E2EBFA;\n",
              "      box-shadow: 0px 1px 2px rgba(60, 64, 67, 0.3), 0px 1px 3px 1px rgba(60, 64, 67, 0.15);\n",
              "      fill: #174EA6;\n",
              "    }\n",
              "\n",
              "    .colab-df-buttons div {\n",
              "      margin-bottom: 4px;\n",
              "    }\n",
              "\n",
              "    [theme=dark] .colab-df-convert {\n",
              "      background-color: #3B4455;\n",
              "      fill: #D2E3FC;\n",
              "    }\n",
              "\n",
              "    [theme=dark] .colab-df-convert:hover {\n",
              "      background-color: #434B5C;\n",
              "      box-shadow: 0px 1px 3px 1px rgba(0, 0, 0, 0.15);\n",
              "      filter: drop-shadow(0px 1px 2px rgba(0, 0, 0, 0.3));\n",
              "      fill: #FFFFFF;\n",
              "    }\n",
              "  </style>\n",
              "\n",
              "    <script>\n",
              "      const buttonEl =\n",
              "        document.querySelector('#df-3daf75ae-a4d1-4281-9411-edd813771de4 button.colab-df-convert');\n",
              "      buttonEl.style.display =\n",
              "        google.colab.kernel.accessAllowed ? 'block' : 'none';\n",
              "\n",
              "      async function convertToInteractive(key) {\n",
              "        const element = document.querySelector('#df-3daf75ae-a4d1-4281-9411-edd813771de4');\n",
              "        const dataTable =\n",
              "          await google.colab.kernel.invokeFunction('convertToInteractive',\n",
              "                                                    [key], {});\n",
              "        if (!dataTable) return;\n",
              "\n",
              "        const docLinkHtml = 'Like what you see? Visit the ' +\n",
              "          '<a target=\"_blank\" href=https://colab.research.google.com/notebooks/data_table.ipynb>data table notebook</a>'\n",
              "          + ' to learn more about interactive tables.';\n",
              "        element.innerHTML = '';\n",
              "        dataTable['output_type'] = 'display_data';\n",
              "        await google.colab.output.renderOutput(dataTable, element);\n",
              "        const docLink = document.createElement('div');\n",
              "        docLink.innerHTML = docLinkHtml;\n",
              "        element.appendChild(docLink);\n",
              "      }\n",
              "    </script>\n",
              "  </div>\n",
              "\n",
              "\n",
              "    <div id=\"df-aa908628-6960-4f8e-91dc-0b1764334462\">\n",
              "      <button class=\"colab-df-quickchart\" onclick=\"quickchart('df-aa908628-6960-4f8e-91dc-0b1764334462')\"\n",
              "                title=\"Suggest charts\"\n",
              "                style=\"display:none;\">\n",
              "\n",
              "<svg xmlns=\"http://www.w3.org/2000/svg\" height=\"24px\"viewBox=\"0 0 24 24\"\n",
              "     width=\"24px\">\n",
              "    <g>\n",
              "        <path d=\"M19 3H5c-1.1 0-2 .9-2 2v14c0 1.1.9 2 2 2h14c1.1 0 2-.9 2-2V5c0-1.1-.9-2-2-2zM9 17H7v-7h2v7zm4 0h-2V7h2v10zm4 0h-2v-4h2v4z\"/>\n",
              "    </g>\n",
              "</svg>\n",
              "      </button>\n",
              "\n",
              "<style>\n",
              "  .colab-df-quickchart {\n",
              "      --bg-color: #E8F0FE;\n",
              "      --fill-color: #1967D2;\n",
              "      --hover-bg-color: #E2EBFA;\n",
              "      --hover-fill-color: #174EA6;\n",
              "      --disabled-fill-color: #AAA;\n",
              "      --disabled-bg-color: #DDD;\n",
              "  }\n",
              "\n",
              "  [theme=dark] .colab-df-quickchart {\n",
              "      --bg-color: #3B4455;\n",
              "      --fill-color: #D2E3FC;\n",
              "      --hover-bg-color: #434B5C;\n",
              "      --hover-fill-color: #FFFFFF;\n",
              "      --disabled-bg-color: #3B4455;\n",
              "      --disabled-fill-color: #666;\n",
              "  }\n",
              "\n",
              "  .colab-df-quickchart {\n",
              "    background-color: var(--bg-color);\n",
              "    border: none;\n",
              "    border-radius: 50%;\n",
              "    cursor: pointer;\n",
              "    display: none;\n",
              "    fill: var(--fill-color);\n",
              "    height: 32px;\n",
              "    padding: 0;\n",
              "    width: 32px;\n",
              "  }\n",
              "\n",
              "  .colab-df-quickchart:hover {\n",
              "    background-color: var(--hover-bg-color);\n",
              "    box-shadow: 0 1px 2px rgba(60, 64, 67, 0.3), 0 1px 3px 1px rgba(60, 64, 67, 0.15);\n",
              "    fill: var(--button-hover-fill-color);\n",
              "  }\n",
              "\n",
              "  .colab-df-quickchart-complete:disabled,\n",
              "  .colab-df-quickchart-complete:disabled:hover {\n",
              "    background-color: var(--disabled-bg-color);\n",
              "    fill: var(--disabled-fill-color);\n",
              "    box-shadow: none;\n",
              "  }\n",
              "\n",
              "  .colab-df-spinner {\n",
              "    border: 2px solid var(--fill-color);\n",
              "    border-color: transparent;\n",
              "    border-bottom-color: var(--fill-color);\n",
              "    animation:\n",
              "      spin 1s steps(1) infinite;\n",
              "  }\n",
              "\n",
              "  @keyframes spin {\n",
              "    0% {\n",
              "      border-color: transparent;\n",
              "      border-bottom-color: var(--fill-color);\n",
              "      border-left-color: var(--fill-color);\n",
              "    }\n",
              "    20% {\n",
              "      border-color: transparent;\n",
              "      border-left-color: var(--fill-color);\n",
              "      border-top-color: var(--fill-color);\n",
              "    }\n",
              "    30% {\n",
              "      border-color: transparent;\n",
              "      border-left-color: var(--fill-color);\n",
              "      border-top-color: var(--fill-color);\n",
              "      border-right-color: var(--fill-color);\n",
              "    }\n",
              "    40% {\n",
              "      border-color: transparent;\n",
              "      border-right-color: var(--fill-color);\n",
              "      border-top-color: var(--fill-color);\n",
              "    }\n",
              "    60% {\n",
              "      border-color: transparent;\n",
              "      border-right-color: var(--fill-color);\n",
              "    }\n",
              "    80% {\n",
              "      border-color: transparent;\n",
              "      border-right-color: var(--fill-color);\n",
              "      border-bottom-color: var(--fill-color);\n",
              "    }\n",
              "    90% {\n",
              "      border-color: transparent;\n",
              "      border-bottom-color: var(--fill-color);\n",
              "    }\n",
              "  }\n",
              "</style>\n",
              "\n",
              "      <script>\n",
              "        async function quickchart(key) {\n",
              "          const quickchartButtonEl =\n",
              "            document.querySelector('#' + key + ' button');\n",
              "          quickchartButtonEl.disabled = true;  // To prevent multiple clicks.\n",
              "          quickchartButtonEl.classList.add('colab-df-spinner');\n",
              "          try {\n",
              "            const charts = await google.colab.kernel.invokeFunction(\n",
              "                'suggestCharts', [key], {});\n",
              "          } catch (error) {\n",
              "            console.error('Error during call to suggestCharts:', error);\n",
              "          }\n",
              "          quickchartButtonEl.classList.remove('colab-df-spinner');\n",
              "          quickchartButtonEl.classList.add('colab-df-quickchart-complete');\n",
              "        }\n",
              "        (() => {\n",
              "          let quickchartButtonEl =\n",
              "            document.querySelector('#df-aa908628-6960-4f8e-91dc-0b1764334462 button');\n",
              "          quickchartButtonEl.style.display =\n",
              "            google.colab.kernel.accessAllowed ? 'block' : 'none';\n",
              "        })();\n",
              "      </script>\n",
              "    </div>\n",
              "\n",
              "    </div>\n",
              "  </div>\n"
            ],
            "application/vnd.google.colaboratory.intrinsic+json": {
              "type": "dataframe",
              "variable_name": "df",
              "summary": "{\n  \"name\": \"df\",\n  \"rows\": 98,\n  \"fields\": [\n    {\n      \"column\": \"pertanyaan\",\n      \"properties\": {\n        \"dtype\": \"string\",\n        \"num_unique_values\": 98,\n        \"samples\": [\n          \"What's the difference between antidepressants?\",\n          \"How can I challenge thinking traps?\",\n          \"If cannabis is dangerous, why are we legalizing it?\"\n        ],\n        \"semantic_type\": \"\",\n        \"description\": \"\"\n      }\n    },\n    {\n      \"column\": \"jawaban\",\n      \"properties\": {\n        \"dtype\": \"string\",\n        \"num_unique_values\": 98,\n        \"samples\": [\n          \"There are many different types of antidepressant medications, and they each work in different ways. Antidepressants are divided into \\u201cclasses\\u201d based on what they do and which chemical messengers in the brain (called neurotransmitters) they are thought to influence. Each class may contain several different medications, which each have slightly different ways of working. Below, you\\u2019ll find common classes and examples of common medications. The first name is the generic name and name in brackets is the brand name. \\n SSRIs or selective serotonin reuptake inhibitors: fluoxetine (Prozac), paroxetine (Paxil), citalopram (Celexa), escitalopram (Cipralex), and sertraline (Zoloft) \\n SNRIs or serotonin and norepinephrine reuptake inhibitors: venlafaxine (Effexor) and duloxetine (Cymbalta) \\n NDRIs or norepinephrine-dopamine reuptake inhibitors: bupropion (Wellbutrin and Zyban) \\n NaSSAs or noradrenergic and specific serotonergic antidepressants: mirtazapine (Remeron), which can also be classed as a TeCa or tetracyclic antidepressant \\n SARIs or serotonin antagonist and reuptake inhibitors: trazodone (Desyrel) \\n There are other classes of antidepressants (such as MAOIs or triclycics) that are much older and have more side effects or restrictions. They are usually prescribed when newer antidepressants don\\u2019t work. Other medications such as lithium, thyroid medication, or antipsychotics may also be prescribed, often in combination with an antidepressant to boost its effect. Antidepressants are not only used to treat depression\\u2014they may be prescribed to treat other illnesses like anxiety disorders. \\n Only medical doctors like family doctors or psychiatrists can prescribe antidepressants. If your doctor recommends that you consider antidepressants, keep in mind that most people have to try a few different options before they find the right medication. It can be a frustrating process, especially when you feel unwell, but it\\u2019s important to find something that works for you! Side effects and benefits can vary significantly between different people, and it\\u2019s difficult to predict how a medication might work without trying it out first. Everyone responds to them differently. It\\u2019s very important to have ongoing discussions with your health care team regarding your medication so you can bring up any problems or concerns\\u2014or even ask more about how your particular antidepressant works.\",\n          \"What you tell yourself about a situation affects how you feel and what you do. Sometimes your interpretation of a situation can get distorted and you only focus on the negative aspects\\u2014this is normal and expected. However, when you interpret situations too negatively, you might feel worse. You're also more likely to respond to the situation in ways that are unhelpful in the long term. \\n These automatic thoughts and assumptions are sometimes called thinking traps. Everyone falls into unbalanced thinking traps from time to time. You're most likely to distort your interpretation of things when you already feel sad, angry, anxious, depressed or stressed. You're also more vulnerable to thinking traps when you're not taking good care of yourself, like when you're not eating or sleeping well. \\n Here are some common thinking traps: \\n Thinking that a negative situation is part of a constant cycle of bad things that happen. People who overgeneralize often use words like \\\"always\\\" or \\\"never.\\\" \\n I was really looking forward to that concert, and now it\\u2019s cancelled. This always happens to me! I never get to do fun things! \\n Seeing things as only right or wrong, good or bad, perfect or terrible. People who think in black and white terms see a small mistake as a total failure. \\n I wanted to eat healthier, but I ate too many snacks today. This plan is a total failure! \\n Saying only negative things about yourself or other people. \\n I made a mistake. I'm stupid! My boss told me that I made a mistake. My boss is a total jerk! \\n Predicting that something bad will happen without any evidence. \\n I've been doing what I can to stay home and reduce the risks, but I just know that I'm going to get sick. \\n Focusing only on the negative parts of a situation and ignoring anything good or positive. \\n I know there's a lot I can do at home, but I'm just so sick of this. Everything is terrible. \\n Believing that bad feelings or emotions reflect the situation. \\n I feel scared and overwhelmed right now, so that must mean everything is very bad and will never get better. \\n Telling yourself how you \\\"should\\\" or \\\"must\\\" act. \\n I should be able to handle this without getting upset and crying! \\n Here are helpful strategies to challenge common thinking traps. Many people find their mood and confidence improve after working through these skills. You can also find worksheets to help you go through each step at www.heretohelp.bc.ca. \\n Don't try to get out of a thinking trap by just telling yourself to stop thinking that way. \\n This doesn't let you look at the evidence and challenge the thinking trap. When you try and push upsetting thoughts away, they are more likely to keep popping back into your mind. \\n Ask yourself the following questions when something upsetting happens: \\n What is the situation? What actually happened? Only include facts that everyone would agree on. \\n What are your thoughts? What are you telling yourself? \\n What are your emotions? How do you feel? \\n What are your behaviours? How are you reacting? What are you doing to cope? \\n Take a look at the thoughts you've listed. Are you using any of the thinking traps and falling into distorted thinking patterns? It's common to fall into more than one thinking trap. Go back to the thinking trap list and identify which ones apply to you and your current situation. \\n The best way to break a thinking trap is to look at your thoughts like a scientist and consider the hard facts. Use the evidence you've collected to challenge your thinking traps. Here are some ways to do that: \\n Try to find evidence against the thought. If you make a mistake at work, you might automatically think, \\\"I can't do anything right! I must be a terrible employee!\\\" When this thought comes up, you might challenge it by asking, \\\"Is there any evidence to support this thought? Is there any evidence to disprove this thought?\\\" You might quickly realize that your boss has complimented your work recently, which doesn't support the idea that you're a bad employee. \\n Ask yourself, \\\"Would I judge other people if they did the same thing? Am I being harder on myself than I am on other people?\\\" This is a great method for challenging thinking traps that involve harsh self-criticism. \\n Find out whether other people you trust agree with your thoughts. For example, you might have trouble with one of your kids and think, \\\"Good parents wouldn't have this kind of problem.\\\" To challenge this thought, you can ask other parents if they've ever had any problems with their kids. \\n Test your beliefs in person. For example, if you think that your friends don't care about you, call a few friends and make plans to start a regular video call. If you assumed that they will all say no, you may be pleasantly surprised to hear that they do want to see you. \\n Once you have worked through some challenges, try to think of a more balanced thought to replace the old thinking traps. Let's use the following example: \\n I feel sad and overwhelmed. I'm having a hard time figuring out what to do. \\n I'm the worst! I should be able to handle this! \\n Labeling \\n 'Should' statements \\n Examine the evidence: I have a lot of challenges right now. I'm worried about my family and everything seems to change so quickly. I've successfully handled complicated situations in the past, so I know I can do this. \\n It's okay to feel upset right now\\u2014there's a lot going on. I'm going to think about how I got through past situations and see what worked for me. I'm trying to do a lot on my own, so I'm going to talk to my family so we can make a plan and work together. \\n Try the Healthy Thinking Worksheet at www.heretohelp.bc.ca \\n Check out Anxiety Canada's articles Helpful Thinking and Thinking Traps \\n This page is adapted from Wellness Module 8: Healthy Thinking at www.heretohelp.bc.ca/wellness-module/wellness-module-8-healthy-thinking.\",\n          \"Cannabis smoke, for example, contains cancer-causing toxins. However, the risk of developing some cancers (e.g., mouth, tongue and lung) is less for cannabis smokers than tobacco smokers, partly because they tend to smoke less than tobacco users. And, while all drugs have an effect on the brain, the particular properties of the drug influence the level of risk of harmful consequences. The negative effects of cannabis on the brain, for example, seem to be less than the effects of some substances such as alcohol. \\n Legalizing cannabis provides an opportunity to put in place regulations to minimize potential harms. The danger of buying and using any illegal drug is that we can never know for sure what exactly is in it. Cannabis is legal in Canada as of October 17, 2018. Adults (over age 19 in BC) are now permitted to possess up to 30 grams of cannabis in public. Cannabis is regulated by the Province of British Columbia and will be sold through the Liquor Distribution Branch. Cannabis will be tested for quality. \\n When drugs are produced and obtained inside a regulated system, it is possible for us to know about the contents and dosage of what we are taking. This helps us manage the risks. However, it is likely that cannabis will still be available outside the government system. It is important to know that the quality of cannabis obtained from a dealer or a friend is unknown and may contain contaminants like mold, mildew, or fillers that may be toxic. \\n The legalization of cannabis also provides us with openings to engage in honest and thoughtful discussions about drug use with our families and communities. When dealing with complex issues, like cannabis policy, no one has all the answers. But as community members, we all have thoughts, feelings and experiences around drugs and drug use to share with each other. Engaging together to explore and share ideas will help us discover how to manage use, as individuals and communities, in ways that maximize benefit and minimize harm. \\n The Canadian Institute for Substance Use Research, formerly CARBC, is a member of the BC Partners for Mental Health and Addictions Information. The institute is dedicated to the study of substance use in support of community-wide efforts aimed at providing all people with access to healthier lives, whether using substances or not. For more, visit www.cisur.ca.\"\n        ],\n        \"semantic_type\": \"\",\n        \"description\": \"\"\n      }\n    }\n  ]\n}"
            }
          },
          "metadata": {},
          "execution_count": 3
        }
      ]
    },
    {
      "cell_type": "code",
      "source": [
        "!pip install -q sentence-transformers"
      ],
      "metadata": {
        "id": "3kTazksstN2S"
      },
      "execution_count": 4,
      "outputs": []
    },
    {
      "cell_type": "code",
      "source": [
        "from sentence_transformers import SentenceTransformer\n",
        "\n",
        "# Gunakan model multilingual yang populer dan efisien\n",
        "model_name = 'paraphrase-multilingual-MiniLM-L12-v2'\n",
        "\n",
        "# Load model dari Hugging Face.\n",
        "# Proses ini akan men-download modelnya, mungkin butuh beberapa saat.\n",
        "print(\"Mulai men-download model embedding... Harap tunggu.\")\n",
        "embedding_model = SentenceTransformer(model_name)\n",
        "print(\"Model embedding berhasil di-load!\")"
      ],
      "metadata": {
        "colab": {
          "base_uri": "https://localhost:8080/"
        },
        "id": "pwOdeQJrtzEv",
        "outputId": "3cf0dae0-443a-4516-ee38-60c25573923c"
      },
      "execution_count": 5,
      "outputs": [
        {
          "output_type": "stream",
          "name": "stdout",
          "text": [
            "Mulai men-download model embedding... Harap tunggu.\n"
          ]
        },
        {
          "output_type": "stream",
          "name": "stderr",
          "text": [
            "/usr/local/lib/python3.11/dist-packages/huggingface_hub/utils/_auth.py:94: UserWarning: \n",
            "The secret `HF_TOKEN` does not exist in your Colab secrets.\n",
            "To authenticate with the Hugging Face Hub, create a token in your settings tab (https://huggingface.co/settings/tokens), set it as secret in your Google Colab and restart your session.\n",
            "You will be able to reuse this secret in all of your notebooks.\n",
            "Please note that authentication is recommended but still optional to access public models or datasets.\n",
            "  warnings.warn(\n"
          ]
        },
        {
          "output_type": "stream",
          "name": "stdout",
          "text": [
            "Model embedding berhasil di-load!\n"
          ]
        }
      ]
    },
    {
      "cell_type": "code",
      "source": [
        "# Kode yang sudah diperbaiki\n",
        "list_of_questions = df['pertanyaan'].tolist()\n",
        "\n",
        "# Tambahkan convert_to_tensor=True di sini!\n",
        "question_embeddings = embedding_model.encode(list_of_questions, convert_to_tensor=True)\n",
        "\n",
        "print(\"Database pertanyaan berhasil di-encode ulang dan dikirim ke GPU.\")"
      ],
      "metadata": {
        "colab": {
          "base_uri": "https://localhost:8080/"
        },
        "id": "h_mlsSxsuPPA",
        "outputId": "408f7704-3968-4ffa-f43c-319f827f6631"
      },
      "execution_count": 6,
      "outputs": [
        {
          "output_type": "stream",
          "name": "stdout",
          "text": [
            "Database pertanyaan berhasil di-encode ulang dan dikirim ke GPU.\n"
          ]
        }
      ]
    },
    {
      "cell_type": "code",
      "source": [
        "# --- Cek Hasilnya ---\n",
        "print(\"\\nProses encoding selesai!\")\n",
        "print(\"Bentuk (shape) dari array embeddings kita:\", question_embeddings.shape)\n",
        "\n",
        "# Kita juga bisa lihat contoh satu embedding\n",
        "print(\"\\nContoh 'DNA Makna' untuk pertanyaan pertama:\")\n",
        "print(question_embeddings[0])"
      ],
      "metadata": {
        "colab": {
          "base_uri": "https://localhost:8080/"
        },
        "id": "xR7IabCtuXTk",
        "outputId": "774775c9-26f8-43d9-b55a-5bc015458393"
      },
      "execution_count": 7,
      "outputs": [
        {
          "output_type": "stream",
          "name": "stdout",
          "text": [
            "\n",
            "Proses encoding selesai!\n",
            "Bentuk (shape) dari array embeddings kita: torch.Size([98, 384])\n",
            "\n",
            "Contoh 'DNA Makna' untuk pertanyaan pertama:\n",
            "tensor([ 4.4400e-01, -4.4506e-02,  2.3824e-01,  6.6620e-01,  1.2571e-02,\n",
            "        -7.6353e-02,  5.0787e-01, -8.1078e-03,  2.4119e-01, -6.6416e-02,\n",
            "         9.7993e-02, -1.4159e-01,  7.7150e-02, -4.6925e-02,  2.4467e-01,\n",
            "         1.4484e-01,  9.1241e-02, -3.8281e-01, -3.5446e-02,  1.7019e-01,\n",
            "         1.6075e-01, -4.3232e-03,  1.3737e-01, -3.3878e-01,  1.3477e-01,\n",
            "         2.9897e-01, -5.0048e-02, -2.5144e-01, -2.3268e-01,  3.8959e-01,\n",
            "        -1.9392e-01,  3.3499e-01, -1.6688e-01,  7.9944e-02,  9.2190e-02,\n",
            "         1.3870e-01, -2.3108e-01,  3.4266e-01,  1.5883e-01, -2.4133e-01,\n",
            "         7.0319e-02,  3.5755e-01,  3.5637e-01, -6.3357e-05, -2.7982e-01,\n",
            "         1.8291e-01, -1.4055e-01,  1.1946e-01,  1.8065e-01, -2.8937e-01,\n",
            "        -5.2816e-02,  3.6580e-01,  6.8330e-01,  4.6210e-02,  4.5181e-02,\n",
            "         1.9026e-01,  2.5346e-01, -1.7530e-01, -3.2774e-01,  5.2613e-01,\n",
            "        -2.0884e-01, -1.2054e-01,  1.3717e-02, -1.4645e-02,  4.7624e-01,\n",
            "        -9.5824e-02, -4.8276e-01, -4.7130e-03,  2.9314e-01, -9.4537e-02,\n",
            "         9.3880e-02, -3.8166e-01, -7.7032e-02,  4.7488e-01,  3.4116e-01,\n",
            "         5.6497e-02, -6.8054e-02, -6.5089e-02, -6.8650e-03, -1.4187e-03,\n",
            "         1.0513e-01,  4.6013e-01,  1.4877e-01, -2.4117e-01,  3.3164e-02,\n",
            "        -2.2006e-03, -6.3150e-03,  2.7919e-01,  7.4161e-02,  2.1875e-01,\n",
            "        -3.0927e-01, -3.3442e-01, -7.9168e-02,  1.0000e-01,  4.3890e-01,\n",
            "        -2.0924e-01,  1.1225e-01, -3.1317e-01,  1.3296e-01,  4.7056e-01,\n",
            "         2.2618e-01, -5.9447e-02,  3.1655e-01,  2.5227e-01,  7.1803e-02,\n",
            "         7.8398e-02,  1.9252e-01, -5.7058e-01, -3.3485e-01, -1.0838e-01,\n",
            "        -2.8469e-01, -1.0142e-01,  2.1160e-01, -3.6154e-01, -6.6434e-03,\n",
            "        -1.6948e-01, -9.9392e-02,  3.6264e-01,  3.6548e-02,  4.2127e-01,\n",
            "        -3.9601e-02, -1.6717e-01, -9.8674e-02,  1.8330e-01, -2.9359e-01,\n",
            "         4.4611e-02, -3.3194e-01, -2.3577e-01,  8.5557e-02, -3.1880e-01,\n",
            "        -1.8240e-01,  2.0228e-01,  1.3622e-01,  3.8183e-01,  1.7747e-01,\n",
            "        -2.4228e-01,  5.2849e-01,  6.3435e-02,  1.1631e-01, -2.1222e-01,\n",
            "         1.7689e-01, -3.6280e-02, -9.2255e-02, -5.6083e-02, -3.9120e-01,\n",
            "         2.6133e-01,  9.0147e-02,  8.5635e-02, -2.0643e-01,  1.5146e-01,\n",
            "        -2.0697e-01,  3.9520e-02,  1.3343e-01, -2.6139e-02, -2.3501e-01,\n",
            "         9.8225e-02, -9.1013e-02, -7.3202e-02, -5.5612e-02,  5.4874e-01,\n",
            "         2.1702e-02, -4.2635e-01, -2.0047e-01,  3.7996e-03,  5.4064e-02,\n",
            "         3.8154e-01,  2.6136e-04, -4.4552e-01,  1.0301e-02,  1.0067e-01,\n",
            "        -3.5689e-01,  1.7833e-01, -1.3662e-01, -3.2068e-01, -2.6606e-01,\n",
            "        -5.9894e-01, -3.9765e-01,  6.6648e-01, -5.1668e-01, -2.3486e-01,\n",
            "         2.1747e-01, -3.0416e-01, -4.1536e-01, -1.9376e-01,  4.2471e-02,\n",
            "        -9.4853e-02, -8.2779e-02, -1.8762e-01,  2.3691e-01, -1.2334e-01,\n",
            "        -5.2981e-01,  1.7484e-01,  2.5574e-01, -2.0031e-01, -1.2597e-01,\n",
            "        -2.2286e-01,  2.2619e-01,  3.1952e-02, -2.4432e-01,  3.8187e-01,\n",
            "        -3.4648e-01,  3.8435e-01,  2.2793e-01, -6.2321e-02, -2.4426e-01,\n",
            "        -1.8170e-01, -4.8598e-01,  1.7735e-01,  9.1211e-02, -2.1161e-01,\n",
            "         1.2076e-01,  3.7527e-01,  3.5656e-01,  1.7136e-01, -2.2377e-01,\n",
            "        -3.2452e-01, -4.8872e-01, -1.9321e-01,  1.1466e-01, -1.9712e-01,\n",
            "         7.8928e-02,  3.5088e-01, -5.0176e-01,  9.0788e-02,  1.7225e-01,\n",
            "         9.7239e-02, -8.3686e-02, -5.6219e-01,  1.1871e-01, -2.6249e-01,\n",
            "         1.8319e-01,  3.1876e-02, -1.5421e-01, -6.2535e-02,  8.7647e-02,\n",
            "         1.1257e-01, -3.7618e-02,  4.0746e-02, -2.8407e-02,  4.4622e-01,\n",
            "        -3.5258e-01, -4.6828e-01,  9.3568e-02, -1.1456e-01, -3.7785e-01,\n",
            "         1.5725e-01,  1.7499e-01, -4.9456e-01, -2.6136e-01,  1.7351e-02,\n",
            "         2.9255e-01, -2.8501e-01,  6.4971e-02, -1.4325e-01,  1.5602e-01,\n",
            "         4.3746e-01, -1.3653e-01,  3.0169e-02,  9.9968e-02, -3.3913e-01,\n",
            "         2.1569e-01, -6.2166e-01, -1.4548e-01, -1.9462e-01, -1.6109e-01,\n",
            "         2.7843e-01,  4.4158e-01,  2.9068e-01,  3.6855e-01,  2.7568e-01,\n",
            "         1.4528e-01,  1.0878e-01,  1.9686e-01, -4.3743e-01, -1.5030e-01,\n",
            "        -1.3033e-01,  1.7425e-01,  1.8201e-01,  3.0020e-01, -7.4974e-01,\n",
            "        -1.8306e-01, -2.0329e-01, -5.7343e-01, -1.0316e-01, -1.0664e-01,\n",
            "        -3.8384e-02, -3.7179e-01,  3.9439e-01, -9.2283e-02, -1.5146e-02,\n",
            "        -4.8274e-01,  1.3400e-01,  4.4193e-01,  1.0460e-01,  1.1885e-01,\n",
            "        -2.3837e-01, -4.6889e-02,  2.7654e-01, -7.6534e-03, -1.4861e-01,\n",
            "         5.8876e-02, -1.9508e-01,  3.6800e-02,  6.5799e-02, -1.8152e-01,\n",
            "        -7.3421e-01,  1.4121e-03,  1.9730e-01,  1.5436e-01, -3.7653e-01,\n",
            "         2.3441e-02, -1.2046e-01, -2.2591e-01, -1.5250e-01, -1.6836e-01,\n",
            "        -2.5585e-01, -6.2650e-01, -8.0368e-02, -1.6008e-01, -2.6203e-01,\n",
            "         1.4990e-01, -2.7123e-01,  1.5708e-02,  1.3756e-01,  4.3235e-01,\n",
            "        -3.5321e-02,  2.3617e-01, -2.8244e-02, -3.4290e-01,  8.1736e-02,\n",
            "        -2.2645e-01, -1.5630e-02, -5.1401e-02, -3.2371e-01, -1.5184e-01,\n",
            "        -8.0166e-02,  1.5657e-01,  5.3653e-01,  2.1846e-01, -3.8394e-02,\n",
            "         4.0009e-01,  7.0187e-02,  1.7200e-01,  4.6737e-01, -7.2794e-02,\n",
            "         1.2442e-01, -1.8873e-01, -5.1162e-01, -3.9185e-01, -2.6006e-02,\n",
            "        -3.5227e-02,  2.8700e-01,  4.7350e-01,  1.3693e-01, -1.9214e-01,\n",
            "        -3.0835e-01,  1.0172e-01, -6.4727e-02,  1.6160e-01,  2.3226e-03,\n",
            "         3.8298e-01,  5.0779e-01,  1.1581e-01,  5.5431e-02, -1.3762e-01,\n",
            "        -6.2546e-02, -9.8495e-02,  1.4935e-01,  3.5036e-01, -1.9353e-01,\n",
            "         1.6527e-01,  2.3177e-01,  2.7983e-01, -4.7355e-02, -2.0139e-01,\n",
            "         3.1578e-01,  2.5220e-01,  4.2161e-01, -1.6491e-01, -2.1570e-01,\n",
            "         4.2280e-01,  4.9884e-01, -3.5197e-01, -5.2369e-01], device='cuda:0')\n"
          ]
        }
      ]
    },
    {
      "cell_type": "code",
      "source": [
        "from sentence_transformers import util\n",
        "import torch\n",
        "\n",
        "# 'embedding_model' dan 'question_embeddings' adalah variabel dari langkah sebelumnya.\n",
        "\n",
        "def find_best_answer(user_question):\n",
        "    \"\"\"Find most similar answer from FAQ database\"\"\"\n",
        "    query_embedding = embedding_model.encode(user_question, convert_to_tensor=True)\n",
        "    cosine_scores = util.cos_sim(query_embedding, question_embeddings)\n",
        "    best_match_index = torch.argmax(cosine_scores).item()\n",
        "    best_answer = df['jawaban'].iloc[best_match_index]\n",
        "    best_score = torch.max(cosine_scores).item()\n",
        "    return best_answer, best_score"
      ],
      "metadata": {
        "id": "aBjlOp4sva-O"
      },
      "execution_count": 17,
      "outputs": []
    },
    {
      "cell_type": "code",
      "source": [
        "# --- Mari Kita Lakukan Tes! ---\n",
        "\n",
        "# Tulis pertanyaan lo di sini. Coba pake kalimat yang beda\n",
        "# dari yang ada di dataset untuk melihat keajaibannya.\n",
        "user_question = \"Aku merasa gelisah saat sendirian\"\n",
        "\n",
        "# Cari jawaban terbaik\n",
        "answer = find_best_answer(user_question)\n",
        "\n",
        "# Tampilkan hasilnya\n",
        "print(\"Pertanyaan User:\", user_question)\n",
        "print(\"\\nJawaban yang Ditemukan:\")\n",
        "print(answer)"
      ],
      "metadata": {
        "colab": {
          "base_uri": "https://localhost:8080/"
        },
        "id": "wvuZLyPIvs-B",
        "outputId": "b4b24c0b-5519-4479-ef53-7379579fe5a8"
      },
      "execution_count": 18,
      "outputs": [
        {
          "output_type": "stream",
          "name": "stdout",
          "text": [
            "Pertanyaan User: Aku merasa gelisah saat sendirian\n",
            "\n",
            "Jawaban yang Ditemukan:\n",
            "(\"A lot of people are alone right now, but we don't have to be lonely. We're all in this together. \\n While you may be physically separated from friends, family members, and other loved ones, it has never been more important to maintain those social connections. Social connections are an opportunity to seek and share support, talk through difficult feelings, share a laugh, keep up-to-date with loved ones, and help each other cope. This pandemic is a lot for one person to deal with on their own. While measures like physical distancing and self-isolation are necessary to slow the spread of the virus, the physical separation can amplify a lot of challenging emotions like loneliness and fear. \\n Think about the different ways to connect that are most meaningful for you. For example, you might prefer a video chat over a phone call, or you might prefer to text throughout the day rather than one set time for a video call. Then, work with your social networks to make a plan. You might video chat with your close friends in the evening and phone a family member once a week. \\n Remember to be mindful of people who may not be online. Check in by phone and ask how you can help. \\n The quality of your social connections matter. Mindlessly scrolling through social media and liking a few posts usually doesn't build strong social connections. Make sure you focus on strategies that actually make you feel included and connected. If your current strategies don't help you feel connected, problem-solve to see if you can find a solution. \\n Everyone feels lonely at times—maybe you recently moved to a new city, are changing your circle of friends, lost someone important in your life, or lost your job and also lost important social connections with coworkers. Other people may have physical connections to others but may feel like their emotional or social needs aren't met. Measures like social distancing or self-isolation can make loneliness feel worse no matter why you feel lonely now. \\n Reach out to the connections you do have. Suggest ways to keep in touch and see if you can set a regular time to connect. People may hesitate to reach out for a lot of different reasons, so don't be afraid to be the one who asks. \\n Look for local community support groups and mutual aid groups on social media. This pandemic is bringing everyone together, so look for opportunities to make new connections. These groups are a great way to share your skills and abilities or seek help and support. \\n Look for specialized support groups. Support groups are moving online, and there are a lot of different support lines to call if you need to talk to someone. To find community services in BC, call or text 211 or visit www.bc211.ca. \\n If you need extra support, you can talk with a psychologist or counsellor for free: \\n You can access a free phone call with a Registered Psychologist though the Covid-19 Psychological Support Service from the BC Psychological Association. Visit www.psychologists.bc.ca/covid-19-resources. \\n You can access free, phone-based, short-term support with a counsellor from a new group called the BC COVID-19 Mental Health Network. Email bccovidtherapists@gmail.com to receive an appointment time. \\n For youth people ages 12-24, you can talk with a counsellor for free through Foundry Virtual. Visit foundrybc.ca/get-support/virtual/. \\n Call the BC Mental Health Support Line at 310-6789. It’s available 24/7. \\n Chat online with a Crisis Center volunteer at www.crisiscentrechat.ca (daily between noon and 1:00am) \\n For older adults: Call the Seniors Distress Line at 604-872-123 \\n For youth and young adults: Chat online with a volunteer at www.YouthinBC.com (daily between noon and 1:00am) \\n For children and youth: Call the Kids Help Phone at 1-800-668-6868 or visit kidshelpphone.ca \\n For tips on managing loneliness, check out the following resources: \\n Coping with Loneliness from the Canadian Mental Health Association: cmha.bc.ca/documents/coping-with-loneliness/ \\n Loneliness and Social Connection issue of Visions Journal at www.heretohelp.bc.ca/visions/loneliness-and-social-connection-vol14 \\n Wellness Module 3: Social Support at www.heretohelp.bc.ca/wellness-module/wellness-module-3-social-support\", 0.568050742149353)\n"
          ]
        }
      ]
    },
    {
      "cell_type": "code",
      "source": [
        "!pip install -q -U langchain langchain-community"
      ],
      "metadata": {
        "id": "-dFy8sSD0aeF"
      },
      "execution_count": 19,
      "outputs": []
    },
    {
      "cell_type": "code",
      "source": [
        "from langchain.prompts import PromptTemplate\n",
        "from google.colab import userdata\n",
        "import requests\n",
        "import torch"
      ],
      "metadata": {
        "id": "QzRx1Xeq2I5x"
      },
      "execution_count": 20,
      "outputs": []
    },
    {
      "cell_type": "code",
      "source": [
        "# 1. TEMPLATE PROMPT\n",
        "# Definisikan \"perintah\" untuk LLM di satu tempat biar rapi.\n",
        "PROMPT_TEMPLATE = \"\"\"\n",
        "Anda adalah asisten AI \"Mentor AI\" yang ramah dan profesional, menjawab pertanyaan seputar kesehatan mental.\n",
        "Jawab pertanyaan pengguna HANYA berdasarkan konteks yang diberikan di bawah ini.\n",
        "Jika informasi tidak ada di konteks, katakan dengan sopan bahwa Anda belum memiliki informasi spesifik tentang itu, tapi berikan saran umum yang relevan jika memungkinkan.\n",
        "Jawab dengan gaya bahasa yang natural, membantu, dan empatik dalam Bahasa Indonesia.\n",
        "\n",
        "KONTEKS:\n",
        "{context}\n",
        "\n",
        "PERTANYAAN PENGGUNA:\n",
        "{question}\n",
        "\n",
        "JAWABAN ANDA:\n",
        "\"\"\""
      ],
      "metadata": {
        "id": "PgPxWcNu3V7W"
      },
      "execution_count": 21,
      "outputs": []
    },
    {
      "cell_type": "code",
      "source": [
        "# 2. FUNGSI PENCARI KONTEKS (Retriever)\n",
        "# Fungsi find_best_answer yang lama, tapi kita pastikan dia hanya mengembalikan teks jawaban.\n",
        "def find_best_answer(user_question):\n",
        "    query_embedding = embedding_model.encode(user_question, convert_to_tensor=True)\n",
        "    cosine_scores = util.cos_sim(query_embedding, question_embeddings)\n",
        "    best_match_index = torch.argmax(cosine_scores).item()\n",
        "    best_answer = df['jawaban'].iloc[best_match_index]\n",
        "    return best_answer"
      ],
      "metadata": {
        "id": "FGxNzRQr3wtn"
      },
      "execution_count": 22,
      "outputs": []
    },
    {
      "cell_type": "code",
      "source": [
        "# 3. FUNGSI GENERATOR JAWABAN (LLM)\n",
        "def generate_llm_response(user_question, context):\n",
        "    try:\n",
        "        api_key = userdata.get('GROQ_API_KEY')\n",
        "        if not api_key:\n",
        "            print(\"⚠️ GROQ_API_KEY tidak ditemukan di Colab Secrets!\")\n",
        "            return None\n",
        "    except Exception as e:\n",
        "        print(f\"Error saat mengambil Groq API Key: {e}\")\n",
        "        return None\n",
        "\n",
        "    url = \"https://api.groq.com/openai/v1/chat/completions\"\n",
        "    headers = {\n",
        "        \"Authorization\": f\"Bearer {api_key}\",\n",
        "        \"Content-Type\": \"application/json\"\n",
        "    }\n",
        "\n",
        "    # Buat prompt dari template\n",
        "    prompt_text = PROMPT_TEMPLATE.format(context=context, question=user_question)\n",
        "\n",
        "    payload = {\n",
        "        \"model\": \"llama3-8b-8192\",\n",
        "        \"messages\": [{\"role\": \"user\", \"content\": prompt_text}],\n",
        "        \"temperature\": 0.7,\n",
        "        \"max_tokens\": 300\n",
        "    }\n",
        "\n",
        "    try:\n",
        "        response = requests.post(url, headers=headers, json=payload, timeout=30)\n",
        "        response.raise_for_status() # Ini akan memunculkan error jika status code bukan 2xx\n",
        "        result = response.json()\n",
        "        return result['choices'][0]['message']['content']\n",
        "    except requests.exceptions.RequestException as e:\n",
        "        print(f\"Error koneksi ke Groq API: {e}\")\n",
        "        return None\n",
        "    except Exception as e:\n",
        "        print(f\"Error saat memproses response Groq: {e}\")\n",
        "        return None"
      ],
      "metadata": {
        "id": "wHYa3vDW3xVG"
      },
      "execution_count": 23,
      "outputs": []
    },
    {
      "cell_type": "code",
      "source": [
        "# 4. FUNGSI UTAMA YANG MERANGKAI SEMUANYA\n",
        "def get_chatbot_response(user_question):\n",
        "    print(f\"❓ PERTANYAAN DITERIMA: {user_question}\")\n",
        "    print(\"--------------------------------------------------\")\n",
        "\n",
        "    # Langkah 1: Ambil konteks yang relevan\n",
        "    print(\"🔍 Mencari konteks di database...\")\n",
        "    context = find_best_answer(user_question)\n",
        "    print(\"✅ Konteks ditemukan!\")\n",
        "\n",
        "    # Langkah 2: Suruh LLM buat jawaban berdasarkan konteks\n",
        "    print(\"🤖 'Mentor AI' sedang berpikir...\")\n",
        "    llm_answer = generate_llm_response(user_question, context)\n",
        "\n",
        "    # Langkah 3: Berikan jawaban akhir\n",
        "    if llm_answer:\n",
        "        final_answer = llm_answer\n",
        "    else:\n",
        "        # Fallback jika LLM gagal, kita tetap kasih jawaban dari database\n",
        "        print(\"🔄 LLM gagal merespon, menggunakan jawaban langsung dari database.\")\n",
        "        final_answer = context\n",
        "\n",
        "    return final_answer"
      ],
      "metadata": {
        "id": "1URoC0up30fy"
      },
      "execution_count": 24,
      "outputs": []
    },
    {
      "cell_type": "code",
      "source": [
        "# --- TESTING DENGAN STRUKTUR BARU ---\n",
        "\n",
        "user_question = \"Bagaimana cara mengatasi stres kerja?\"\n",
        "final_answer = get_chatbot_response(user_question)\n",
        "\n",
        "print(\"\\n================ JAWABAN FINAL ==================\")\n",
        "print(final_answer)"
      ],
      "metadata": {
        "colab": {
          "base_uri": "https://localhost:8080/"
        },
        "id": "Tqe7KFSWVRSd",
        "outputId": "f4bed6e8-d026-46dd-cd45-4245a750e368"
      },
      "execution_count": 25,
      "outputs": [
        {
          "output_type": "stream",
          "name": "stdout",
          "text": [
            "❓ PERTANYAAN DITERIMA: Bagaimana cara mengatasi stres kerja?\n",
            "--------------------------------------------------\n",
            "🔍 Mencari konteks di database...\n",
            "✅ Konteks ditemukan!\n",
            "🤖 'Mentor AI' sedang berpikir...\n",
            "\n",
            "================ JAWABAN FINAL ==================\n",
            "Stres kerja! It's a common issue many of us face. As a friendly AI, I'd like to offer some suggestions to help you manage work-related stress.\n",
            "\n",
            "Firstly, it's essential to acknowledge that stress is a normal response to external pressures, and it's not uncommon to feel overwhelmed at work. Here are some strategies that may help:\n",
            "\n",
            "1. **Identify the sources of stress**: Take some time to reflect on what specifically is causing your stress at work. Is it a particular task, colleague, or workload? Once you've identified the root cause, you can start working on a plan to address it.\n",
            "2. **Prioritize your tasks**: Make a to-do list and prioritize your tasks based on importance and urgency. Focus on completing the most critical tasks first, and then move on to less pressing ones.\n",
            "3. **Take regular breaks**: It's essential to take short breaks throughout the day to recharge. Go for a walk, do some stretching, or practice deep breathing exercises. Even a 5-10 minute break can make a significant difference.\n",
            "4. **Communicate with your colleagues and supervisor**: Don't be afraid to ask for help or clarify expectations. Communicate with your colleagues and supervisor to ensure you're on the same page and can manage your workload effectively.\n",
            "5. **Practice self-care**: Make time for activities that bring you joy and help you relax outside of work. Whether it's reading a book, listening to music, or practicing yoga,\n"
          ]
        }
      ]
    }
  ]
}